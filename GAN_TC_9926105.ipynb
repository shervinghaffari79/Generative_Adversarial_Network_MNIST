{
  "cells": [
    {
      "cell_type": "markdown",
      "source": [
        "# Importing libraries"
      ],
      "metadata": {
        "id": "hGRqmY8ZvxTE"
      }
    },
    {
      "cell_type": "code",
      "execution_count": 117,
      "metadata": {
        "id": "mSfqLR0eZhqj"
      },
      "outputs": [],
      "source": [
        "import torch\n",
        "import torch.nn as nn\n",
        "import torch.optim as optim\n",
        "from torch.utils.data import DataLoader\n",
        "import torchvision.transforms as transforms\n",
        "import torchvision.datasets as datasets\n",
        "import matplotlib.pyplot as plt\n",
        "import numpy as np"
      ]
    },
    {
      "cell_type": "markdown",
      "source": [
        "# Data Preprocessing and Loading for MNIST Dataset with PyTorch"
      ],
      "metadata": {
        "id": "LoDKNeJQv7HH"
      }
    },
    {
      "cell_type": "code",
      "execution_count": 94,
      "metadata": {
        "id": "8w4JjmFBasWT"
      },
      "outputs": [],
      "source": [
        "transform = transforms.Compose([\n",
        "    transforms.ToTensor(),\n",
        "    transforms.Normalize((0.5,), (0.5,))\n",
        "])\n",
        "\n",
        "mnist = datasets.MNIST(root='./data', train=True, transform=transform, download=True)\n",
        "dataloader = DataLoader(mnist, batch_size=32, shuffle=True)"
      ]
    },
    {
      "cell_type": "markdown",
      "source": [
        "# Generator Class"
      ],
      "metadata": {
        "id": "OESmRp69v_3U"
      }
    },
    {
      "cell_type": "code",
      "execution_count": 95,
      "metadata": {
        "id": "UGjvTH_4bBCU"
      },
      "outputs": [],
      "source": [
        "class Generator(nn.Module):\n",
        "  def __init__(self):\n",
        "    super(Generator,self).__init__()\n",
        "\n",
        "    self.main = nn.Sequential(\n",
        "            nn.Linear(100, 256),\n",
        "            nn.LeakyReLU(0.2),\n",
        "            nn.Linear(256, 512),\n",
        "            nn.LeakyReLU(0.2),\n",
        "            nn.Linear(512, 1024),\n",
        "            nn.LeakyReLU(0.2),\n",
        "            nn.Linear(1024, 784),\n",
        "            nn.Tanh()\n",
        "        )\n",
        "\n",
        "  def forward(self,z):\n",
        "    output = self.main(z)\n",
        "    return output.view(z.size(0),1,28,28)"
      ]
    },
    {
      "cell_type": "markdown",
      "source": [
        "# Discriminator Class"
      ],
      "metadata": {
        "id": "TQl53vdmwBf_"
      }
    },
    {
      "cell_type": "code",
      "execution_count": 96,
      "metadata": {
        "id": "6knY6mKCcvNd"
      },
      "outputs": [],
      "source": [
        "class Discriminator(nn.Module):\n",
        "    def __init__(self):\n",
        "        super(Discriminator, self).__init__()\n",
        "\n",
        "        self.main = nn.Sequential(\n",
        "            nn.Linear(784, 1024),\n",
        "            nn.LeakyReLU(0.2),\n",
        "            nn.Dropout(0.3),\n",
        "            nn.Linear(1024, 512),\n",
        "            nn.LeakyReLU(0.2),\n",
        "            nn.Dropout(0.3),\n",
        "            nn.Linear(512, 256),\n",
        "            nn.LeakyReLU(0.2),\n",
        "            nn.Dropout(0.3),\n",
        "            nn.Linear(256, 1),\n",
        "            nn.Sigmoid()\n",
        "        )\n",
        "\n",
        "    def forward(self, input):\n",
        "        return self.main(input.view(input.size(0),784))\n"
      ]
    },
    {
      "cell_type": "markdown",
      "source": [
        "# Creating object"
      ],
      "metadata": {
        "id": "KHVLgq22wGWI"
      }
    },
    {
      "cell_type": "code",
      "execution_count": 105,
      "metadata": {
        "id": "lTSVChqsduyh"
      },
      "outputs": [],
      "source": [
        "generator = Generator()\n",
        "discriminator = Discriminator()"
      ]
    },
    {
      "cell_type": "markdown",
      "source": [
        "# Defining loss function and optimizer"
      ],
      "metadata": {
        "id": "zvVxwbNCwMqU"
      }
    },
    {
      "cell_type": "code",
      "source": [
        "criterion = nn.BCELoss()\n",
        "optim_d = optim.Adam(discriminator.parameters(),0.0002)\n",
        "optim_g = optim.Adam(generator.parameters(),0.0002)"
      ],
      "metadata": {
        "id": "QspCIHIvq_Sx"
      },
      "execution_count": null,
      "outputs": []
    },
    {
      "cell_type": "markdown",
      "source": [
        "# Training GAN"
      ],
      "metadata": {
        "id": "kHkRdrYbwT7Y"
      }
    },
    {
      "cell_type": "code",
      "execution_count": 113,
      "metadata": {
        "colab": {
          "base_uri": "https://localhost:8080/"
        },
        "id": "OkWQmAbFeYnZ",
        "outputId": "59e15a9c-3fc7-48f0-d920-9d2e2f2ebfd8"
      },
      "outputs": [
        {
          "output_type": "stream",
          "name": "stdout",
          "text": [
            "Epoch:0, Discriminator_loss: 1.097825050354004, Generator_loss: 0.9276012182235718\n",
            "Epoch:1, Discriminator_loss: 0.9742084741592407, Generator_loss: 1.2255464792251587\n",
            "Epoch:2, Discriminator_loss: 1.266139268875122, Generator_loss: 1.2216918468475342\n",
            "Epoch:3, Discriminator_loss: 1.1994036436080933, Generator_loss: 0.9024251699447632\n",
            "Epoch:4, Discriminator_loss: 1.1332719326019287, Generator_loss: 1.224892497062683\n",
            "Epoch:5, Discriminator_loss: 1.1851916313171387, Generator_loss: 1.0735422372817993\n",
            "Epoch:6, Discriminator_loss: 1.0831258296966553, Generator_loss: 1.0055886507034302\n",
            "Epoch:7, Discriminator_loss: 1.178454875946045, Generator_loss: 1.0651556253433228\n",
            "Epoch:8, Discriminator_loss: 1.1258866786956787, Generator_loss: 1.2214587926864624\n",
            "Epoch:9, Discriminator_loss: 1.2862558364868164, Generator_loss: 1.0032947063446045\n",
            "Epoch:10, Discriminator_loss: 1.2620348930358887, Generator_loss: 0.8021720051765442\n",
            "Epoch:11, Discriminator_loss: 1.3360596895217896, Generator_loss: 0.906671404838562\n",
            "Epoch:12, Discriminator_loss: 1.20112943649292, Generator_loss: 1.0209580659866333\n",
            "Epoch:13, Discriminator_loss: 1.2355730533599854, Generator_loss: 1.1048914194107056\n",
            "Epoch:14, Discriminator_loss: 1.1149312257766724, Generator_loss: 0.9326234459877014\n",
            "Epoch:15, Discriminator_loss: 1.0907652378082275, Generator_loss: 0.8739680051803589\n",
            "Epoch:16, Discriminator_loss: 1.0407278537750244, Generator_loss: 1.1104382276535034\n",
            "Epoch:17, Discriminator_loss: 1.2303918600082397, Generator_loss: 0.9376211762428284\n",
            "Epoch:18, Discriminator_loss: 1.5151853561401367, Generator_loss: 0.8396546244621277\n",
            "Epoch:19, Discriminator_loss: 1.1412575244903564, Generator_loss: 0.840765655040741\n"
          ]
        }
      ],
      "source": [
        "n_epochs = 20\n",
        "\n",
        "real_labels = torch.ones(32, 1)\n",
        "fake_labels = torch.zeros(32, 1)\n",
        "\n",
        "\n",
        "for epoch in range(n_epochs):\n",
        "    # discriminator training\n",
        "    for batch, _ in dataloader:\n",
        "        # discriminator real images training\n",
        "        optim_d.zero_grad()\n",
        "        output = discriminator(batch)\n",
        "        disc_real_loss = criterion(output, real_labels)\n",
        "\n",
        "        # discriminator fake images training\n",
        "        noise = torch.randn(32, 10 * 10)\n",
        "        fake_batch = generator(noise)\n",
        "        output = discriminator(fake_batch.detach())\n",
        "        disc_fake_loss = criterion(output, fake_labels)\n",
        "\n",
        "        disc_loss = disc_fake_loss + disc_real_loss\n",
        "        disc_loss.backward()\n",
        "        optim_d.step()\n",
        "\n",
        "        # generator training\n",
        "        optim_g.zero_grad()\n",
        "        noise = torch.randn(32, 10 * 10)\n",
        "        fake_batch = generator(noise)\n",
        "        output = discriminator(fake_batch)\n",
        "        gen_loss = criterion(output, real_labels)\n",
        "        gen_loss.backward()\n",
        "        optim_g.step()\n",
        "\n",
        "    print(f'Epoch:{epoch}, Discriminator_loss: {disc_fake_loss + disc_real_loss}, Generator_loss: {gen_loss}')"
      ]
    },
    {
      "cell_type": "markdown",
      "source": [
        "# Visualizing the generated handwriting numbers"
      ],
      "metadata": {
        "id": "htsGkhT9wYl0"
      }
    },
    {
      "cell_type": "code",
      "source": [
        "z = torch.randn(32, 100)\n",
        "fake_imgs = generator(z)\n",
        "\n",
        "# Move the images to the CPU and convert to numpy array\n",
        "fake_imgs = fake_imgs.detach().numpy()\n",
        "\n",
        "# Create a grid of images\n",
        "fig, axs = plt.subplots(4, 8, figsize=(12, 6), sharey=True, sharex=True)\n",
        "\n",
        "for i in range(4):\n",
        "    for j in range(8):\n",
        "        axs[i, j].imshow(fake_imgs[i * 8 + j][0], cmap='gray')\n",
        "        axs[i, j].axis('off')\n",
        "\n",
        "plt.show()"
      ],
      "metadata": {
        "colab": {
          "base_uri": "https://localhost:8080/",
          "height": 497
        },
        "id": "Y8Nf0RaLj8Mt",
        "outputId": "a73cce93-4d94-4252-b1d1-ac92dbfd61c4"
      },
      "execution_count": 115,
      "outputs": [
        {
          "output_type": "display_data",
          "data": {
            "text/plain": [
              "<Figure size 1200x600 with 32 Axes>"
            ],
            "image/png": "[encoded data removed]"
          },
          "metadata": {}
        }
      ]
    }
  ],
  "metadata": {
    "colab": {
      "provenance": []
    },
    "kernelspec": {
      "display_name": "Python 3",
      "name": "python3"
    },
    "language_info": {
      "name": "python"
    }
  },
  "nbformat": 4,
  "nbformat_minor": 0
}